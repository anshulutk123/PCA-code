{
 "cells": [
  {
   "cell_type": "code",
   "execution_count": 1,
   "metadata": {},
   "outputs": [],
   "source": [
    "import numpy as np\n",
    "import pandas as pd\n",
    "import matplotlib.pyplot as plt"
   ]
  },
  {
   "cell_type": "code",
   "execution_count": 13,
   "metadata": {},
   "outputs": [
    {
     "name": "stdout",
     "output_type": "stream",
     "text": [
      "     Names  UG Salary  On Time  Rocket Launcher    JAG  Kaju's Online  \\\n",
      "0  Enrique       3.98     10.5            13.83  11.89          10.66   \n",
      "1   Damien       2.05     13.5            13.76  13.32          13.07   \n",
      "2    Ellie       3.81     15.5            13.57  11.64          11.93   \n",
      "3   Cierra       3.51     10.0            14.29  13.70          14.75   \n",
      "4    Alden       2.71     10.0            11.55  12.77          13.34   \n",
      "\n",
      "   Self Prep  \n",
      "0      10.60  \n",
      "1      11.95  \n",
      "2      10.15  \n",
      "3      10.00  \n",
      "4      11.20  \n",
      "0    Enrique\n",
      "1     Damien\n",
      "2      Ellie\n",
      "3     Cierra\n",
      "4      Alden\n",
      "Name: Names, dtype: object\n"
     ]
    }
   ],
   "source": [
    "data=pd.read_csv('abc.csv')\n",
    "print(data.head(5))\n",
    "\n",
    "\n",
    "l=data['Names']\n",
    "print(l.head(5))\n",
    "\n",
    "d=data.drop(['Names','UG Salary'],axis=1)"
   ]
  },
  {
   "cell_type": "code",
   "execution_count": 14,
   "metadata": {},
   "outputs": [
    {
     "name": "stdout",
     "output_type": "stream",
     "text": [
      "(26, 5)\n",
      "(26,)\n"
     ]
    }
   ],
   "source": [
    "print(d.shape)\n",
    "print(l.shape)"
   ]
  },
  {
   "cell_type": "code",
   "execution_count": 15,
   "metadata": {},
   "outputs": [
    {
     "name": "stdout",
     "output_type": "stream",
     "text": [
      "(26, 5)\n"
     ]
    }
   ],
   "source": [
    "from sklearn.preprocessing import StandardScaler\n",
    "\n",
    "standarized_data =StandardScaler().fit_transform(d)\n",
    "print(standarized_data.shape)"
   ]
  },
  {
   "cell_type": "code",
   "execution_count": 16,
   "metadata": {},
   "outputs": [
    {
     "name": "stdout",
     "output_type": "stream",
     "text": [
      "[[-1.29138645  0.88293739 -0.80140356 -1.52977424 -0.12401639]\n",
      " [ 0.33326102  0.83012943  0.77594871  0.27100829  1.55020488]\n",
      " [ 1.41635933  0.68679356 -1.07716445 -0.58081415 -0.68209015]\n",
      " [-1.56216103  1.22996109  1.19510526  1.52632557 -0.86811473]\n",
      " [-1.56216103 -0.83709312  0.16927476  0.47275571  0.62008195]\n",
      " [ 0.6040356   0.58872164 -2.75379065  1.57863046 -0.99213112]\n",
      " [ 1.68713391 -1.84044425  0.65461392  0.49517209 -0.80610654]\n",
      " [ 0.33326102 -0.1656777   0.30163999 -1.39527596 -0.62008195]\n",
      " [ 0.06248644 -0.36182153 -1.07716445  0.2187034   1.42618849]\n",
      " [-0.20828814  0.27941791 -1.35292534 -0.70036818  1.48819668]\n",
      " [ 0.6040356  -0.88235708  1.94517488  0.32331317  1.2401639 ]\n",
      " [-0.74983729  0.61889762 -0.07339482 -0.53598139 -0.31004098]\n",
      " [ 1.14558475  0.47556174 -1.04407314 -0.75267307 -0.12401639]\n",
      " [-0.47906271 -1.53114052 -0.19472961  1.60851896  0.80610654]\n",
      " [ 0.87481017  1.64488073 -1.43013839 -0.5658699  -1.17815571]\n",
      " [ 0.06248644  0.44538577  0.1803052   0.42792295  1.3021721 ]\n",
      " [-1.56216103 -0.21848566 -0.09545569  1.61599109  0.93012293]\n",
      " [-1.29138645  0.89048138  0.09206171 -1.40274809 -0.99213112]\n",
      " [ 1.41635933 -1.22183679  0.48915739 -1.09639089 -0.55807376]\n",
      " [ 0.87481017 -1.96869214 -0.02927308  1.34699453  1.05413932]\n",
      " [ 0.6040356  -0.65603728  0.30163999 -1.26824981 -1.05413932]\n",
      " [-1.02061187 -0.61077332  0.62152262 -0.88717135 -1.36418029]\n",
      " [-0.20828814 -0.30901358  1.36056179 -0.70036818 -1.11614751]\n",
      " [-0.20828814  1.16960914  1.08480091  0.18134277  0.80610654]\n",
      " [-1.02061187 -0.66358127  0.37885303  0.67450313 -1.2401639 ]\n",
      " [ 1.14558475  1.52417683  0.37885303  0.67450313  0.80610654]]\n"
     ]
    }
   ],
   "source": [
    "print(standarized_data)"
   ]
  },
  {
   "cell_type": "code",
   "execution_count": 18,
   "metadata": {},
   "outputs": [],
   "source": [
    "sample_data =standarized_data"
   ]
  },
  {
   "cell_type": "code",
   "execution_count": 23,
   "metadata": {},
   "outputs": [],
   "source": [
    "from sklearn import decomposition\n",
    "pca=decomposition.PCA()"
   ]
  },
  {
   "cell_type": "code",
   "execution_count": 30,
   "metadata": {},
   "outputs": [],
   "source": [
    "pca.n_components=1\n",
    "pca_data=pca.fit_transform(sample_data)"
   ]
  },
  {
   "cell_type": "code",
   "execution_count": 31,
   "metadata": {},
   "outputs": [
    {
     "name": "stdout",
     "output_type": "stream",
     "text": [
      "[[ 1.5292995 ]\n",
      " [-0.87862514]\n",
      " [ 1.54639072]\n",
      " [-0.47501657]\n",
      " [-1.22442261]\n",
      " [ 0.82536387]\n",
      " [-0.71504892]\n",
      " [ 1.05856193]\n",
      " [-0.7154784 ]\n",
      " [ 0.16146331]\n",
      " [-1.86072289]\n",
      " [ 0.71959513]\n",
      " [ 1.21029589]\n",
      " [-2.09515131]\n",
      " [ 2.29676613]\n",
      " [-0.83777247]\n",
      " [-1.73374297]\n",
      " [ 1.63560441]\n",
      " [ 0.4244521 ]\n",
      " [-2.17842743]\n",
      " [ 1.03163005]\n",
      " [ 0.71125461]\n",
      " [ 0.43206937]\n",
      " [-0.42252794]\n",
      " [-0.25675549]\n",
      " [-0.18905488]]\n"
     ]
    }
   ],
   "source": [
    "print(pca_data)"
   ]
  },
  {
   "cell_type": "code",
   "execution_count": 32,
   "metadata": {},
   "outputs": [
    {
     "name": "stdout",
     "output_type": "stream",
     "text": [
      "[[0.10535941 0.44320861 0.33425027 0.61294648 0.55230325]]\n"
     ]
    }
   ],
   "source": [
    "print(abs( pca.components_ ))"
   ]
  },
  {
   "cell_type": "code",
   "execution_count": null,
   "metadata": {},
   "outputs": [],
   "source": []
  }
 ],
 "metadata": {
  "kernelspec": {
   "display_name": "Python 3",
   "language": "python",
   "name": "python3"
  },
  "language_info": {
   "codemirror_mode": {
    "name": "ipython",
    "version": 3
   },
   "file_extension": ".py",
   "mimetype": "text/x-python",
   "name": "python",
   "nbconvert_exporter": "python",
   "pygments_lexer": "ipython3",
   "version": "3.8.5"
  }
 },
 "nbformat": 4,
 "nbformat_minor": 4
}
